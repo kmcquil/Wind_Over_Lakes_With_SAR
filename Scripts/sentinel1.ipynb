{
 "cells": [
  {
   "cell_type": "markdown",
   "metadata": {},
   "source": [
    "### Download Sentinel-1 data\n",
    "\n",
    "Get all images from 2023 - 2024 IW, GRD, VV polarization, high resolution at buoy locations"
   ]
  },
  {
   "cell_type": "code",
   "execution_count": 2,
   "metadata": {},
   "outputs": [],
   "source": [
    "import ee \n",
    "import geemap\n",
    "import math\n",
    "import numpy as np\n",
    "import pandas as pd\n",
    "import os\n",
    "import glob \n",
    "import zipfile\n",
    "import seaborn as sns\n",
    "import rioxarray\n",
    "\n",
    "home = \"C:/Users/kmcquil/Documents/SWOT_WIND/\""
   ]
  },
  {
   "cell_type": "code",
   "execution_count": 2,
   "metadata": {},
   "outputs": [
    {
     "data": {
      "text/html": [
       "<p>To authorize access needed by Earth Engine, open the following\n",
       "        URL in a web browser and follow the instructions:</p>\n",
       "        <p><a href=https://code.earthengine.google.com/client-auth?scopes=https%3A//www.googleapis.com/auth/earthengine%20https%3A//www.googleapis.com/auth/devstorage.full_control&request_id=UHJWKvBlbdJrtLJ1pt4YrU7umMgjEMBKiWYVjiRqlHE&tc=2ZA5firAV0uBXE-3htbCbI_oOhjaDvxMm4_j1CVu2W0&cc=ZlrGIGQU7gqpeQgWBtXdfWqNQg7yQWY3j0ajmcs9cn4>https://code.earthengine.google.com/client-auth?scopes=https%3A//www.googleapis.com/auth/earthengine%20https%3A//www.googleapis.com/auth/devstorage.full_control&request_id=UHJWKvBlbdJrtLJ1pt4YrU7umMgjEMBKiWYVjiRqlHE&tc=2ZA5firAV0uBXE-3htbCbI_oOhjaDvxMm4_j1CVu2W0&cc=ZlrGIGQU7gqpeQgWBtXdfWqNQg7yQWY3j0ajmcs9cn4</a></p>\n",
       "        <p>The authorization workflow will generate a code, which you should paste in the box below.</p>\n",
       "        "
      ],
      "text/plain": [
       "<IPython.core.display.HTML object>"
      ]
     },
     "metadata": {},
     "output_type": "display_data"
    },
    {
     "name": "stdout",
     "output_type": "stream",
     "text": [
      "\n",
      "Successfully saved authorization token.\n"
     ]
    }
   ],
   "source": [
    "#ee.Authenticate()"
   ]
  },
  {
   "cell_type": "code",
   "execution_count": 3,
   "metadata": {},
   "outputs": [],
   "source": [
    "ee.Initialize()"
   ]
  },
  {
   "cell_type": "code",
   "execution_count": 9,
   "metadata": {},
   "outputs": [
    {
     "data": {
      "text/html": [
       "<div><style>:root {\n",
       "  --font-color-primary: var(--jp-content-font-color0, rgba(0, 0, 0, 1));\n",
       "  --font-color-secondary: var(--jp-content-font-color2, rgba(0, 0, 0, 0.6));\n",
       "  --font-color-accent: rgba(123, 31, 162, 1);\n",
       "  --border-color: var(--jp-border-color2, #e0e0e0);\n",
       "  --background-color: var(--jp-layout-color0, white);\n",
       "  --background-color-row-even: var(--jp-layout-color1, white);\n",
       "  --background-color-row-odd: var(--jp-layout-color2, #eeeeee);\n",
       "}\n",
       "\n",
       "html[theme=\"dark\"],\n",
       "body[data-theme=\"dark\"],\n",
       "body.vscode-dark {\n",
       "  --font-color-primary: rgba(255, 255, 255, 1);\n",
       "  --font-color-secondary: rgba(255, 255, 255, 0.6);\n",
       "  --font-color-accent: rgb(173, 132, 190);\n",
       "  --border-color: #2e2e2e;\n",
       "  --background-color: #111111;\n",
       "  --background-color-row-even: #111111;\n",
       "  --background-color-row-odd: #313131;\n",
       "}\n",
       "\n",
       ".ee {\n",
       "  padding: 1em;\n",
       "  line-height: 1.5em;\n",
       "  min-width: 300px;\n",
       "  max-width: 1200px;\n",
       "  overflow-y: scroll;\n",
       "  max-height: 600px;\n",
       "  border: 1px solid var(--border-color);\n",
       "  font-family: monospace;\n",
       "}\n",
       "\n",
       ".ee li {\n",
       "  list-style-type: none;\n",
       "}\n",
       "\n",
       ".ee ul {\n",
       "  padding-left: 1.5em !important;\n",
       "  margin: 0;\n",
       "}\n",
       "\n",
       ".ee > ul {\n",
       "  padding-left: 0 !important;\n",
       "}\n",
       "\n",
       ".ee-open,\n",
       ".ee-shut {\n",
       "  color: var(--font-color-secondary);\n",
       "  cursor: pointer;\n",
       "  margin: 0;\n",
       "}\n",
       "\n",
       ".ee-open:hover,\n",
       ".ee-shut:hover {\n",
       "  color: var(--font-color-primary);\n",
       "}\n",
       "\n",
       ".ee-k {\n",
       "  color: var(--font-color-accent);\n",
       "  margin-right: 6px;\n",
       "}\n",
       "\n",
       ".ee-v {\n",
       "  color: var(--font-color-primary);\n",
       "}\n",
       "\n",
       ".ee-toggle {\n",
       "  display: none;\n",
       "}\n",
       "\n",
       ".ee-shut + ul {\n",
       "  display: none;\n",
       "}\n",
       "\n",
       ".ee-open + ul {\n",
       "  display: block;\n",
       "}\n",
       "\n",
       ".ee-shut::before {\n",
       "  display: inline-block;\n",
       "  content: \"▼\";\n",
       "  margin-right: 6px;\n",
       "  transform: rotate(-90deg);\n",
       "  transition: transform 0.2s;\n",
       "}\n",
       "\n",
       ".ee-open::before {\n",
       "  transform: rotate(0deg);\n",
       "  display: inline-block;\n",
       "  content: \"▼\";\n",
       "  margin-right: 6px;\n",
       "  transition: transform 0.2s;\n",
       "}\n",
       "</style><div class='ee'><ul><li><span class='ee-v'>1373</span></li></ul></div><script>function toggleHeader() {\n",
       "    const parent = this.parentElement;\n",
       "    parent.className = parent.className === \"ee-open\" ? \"ee-shut\" : \"ee-open\";\n",
       "}\n",
       "\n",
       "for (let c of document.getElementsByClassName(\"ee-toggle\")) {\n",
       "    c.onclick = toggleHeader;\n",
       "}</script></div>"
      ],
      "text/plain": [
       "<ee.ee_number.Number at 0x13804e26760>"
      ]
     },
     "execution_count": 9,
     "metadata": {},
     "output_type": "execute_result"
    }
   ],
   "source": [
    "# Filter the image collection \n",
    "# Load the sentinel 1 dataset and filter to GRD, IW, and VV polarization, years 2023-2024, and intersects with buoy locations \n",
    "buoys_shp_fp = os.path.join(home, \"Data/Buoy/buoy_info.shp\")\n",
    "buoys = geemap.shp_to_ee(buoys_shp_fp)\n",
    "\n",
    "start_date = '2023-01-01'\n",
    "end_date = '2024-04-01'\n",
    "\n",
    "sentinel1_vv = ee.ImageCollection('COPERNICUS/S1_GRD').filter(ee.Filter.eq('instrumentMode', 'IW')) \\\n",
    ".filter(ee.Filter.listContains('transmitterReceiverPolarisation', 'VV')) \\\n",
    ".filter(ee.Filter.date(start_date, end_date)) \\\n",
    ".filter(ee.Filter.eq('resolution', 'H')) \\\n",
    ".filterBounds(buoys)\n",
    "\n",
    "count = sentinel1_vv.size()\n",
    "count\n",
    "# 1373 images "
   ]
  },
  {
   "cell_type": "code",
   "execution_count": 10,
   "metadata": {},
   "outputs": [],
   "source": [
    "# Convert to type double for both bands so that they can be exported together \n",
    "def double(image):\n",
    "    return image.double()\n",
    "sentinel1_vv = sentinel1_vv.map(double)"
   ]
  },
  {
   "cell_type": "code",
   "execution_count": 33,
   "metadata": {},
   "outputs": [
    {
     "data": {
      "text/html": [
       "<div><style>:root {\n",
       "  --font-color-primary: var(--jp-content-font-color0, rgba(0, 0, 0, 1));\n",
       "  --font-color-secondary: var(--jp-content-font-color2, rgba(0, 0, 0, 0.6));\n",
       "  --font-color-accent: rgba(123, 31, 162, 1);\n",
       "  --border-color: var(--jp-border-color2, #e0e0e0);\n",
       "  --background-color: var(--jp-layout-color0, white);\n",
       "  --background-color-row-even: var(--jp-layout-color1, white);\n",
       "  --background-color-row-odd: var(--jp-layout-color2, #eeeeee);\n",
       "}\n",
       "\n",
       "html[theme=\"dark\"],\n",
       "body[data-theme=\"dark\"],\n",
       "body.vscode-dark {\n",
       "  --font-color-primary: rgba(255, 255, 255, 1);\n",
       "  --font-color-secondary: rgba(255, 255, 255, 0.6);\n",
       "  --font-color-accent: rgb(173, 132, 190);\n",
       "  --border-color: #2e2e2e;\n",
       "  --background-color: #111111;\n",
       "  --background-color-row-even: #111111;\n",
       "  --background-color-row-odd: #313131;\n",
       "}\n",
       "\n",
       ".ee {\n",
       "  padding: 1em;\n",
       "  line-height: 1.5em;\n",
       "  min-width: 300px;\n",
       "  max-width: 1200px;\n",
       "  overflow-y: scroll;\n",
       "  max-height: 600px;\n",
       "  border: 1px solid var(--border-color);\n",
       "  font-family: monospace;\n",
       "}\n",
       "\n",
       ".ee li {\n",
       "  list-style-type: none;\n",
       "}\n",
       "\n",
       ".ee ul {\n",
       "  padding-left: 1.5em !important;\n",
       "  margin: 0;\n",
       "}\n",
       "\n",
       ".ee > ul {\n",
       "  padding-left: 0 !important;\n",
       "}\n",
       "\n",
       ".ee-open,\n",
       ".ee-shut {\n",
       "  color: var(--font-color-secondary);\n",
       "  cursor: pointer;\n",
       "  margin: 0;\n",
       "}\n",
       "\n",
       ".ee-open:hover,\n",
       ".ee-shut:hover {\n",
       "  color: var(--font-color-primary);\n",
       "}\n",
       "\n",
       ".ee-k {\n",
       "  color: var(--font-color-accent);\n",
       "  margin-right: 6px;\n",
       "}\n",
       "\n",
       ".ee-v {\n",
       "  color: var(--font-color-primary);\n",
       "}\n",
       "\n",
       ".ee-toggle {\n",
       "  display: none;\n",
       "}\n",
       "\n",
       ".ee-shut + ul {\n",
       "  display: none;\n",
       "}\n",
       "\n",
       ".ee-open + ul {\n",
       "  display: block;\n",
       "}\n",
       "\n",
       ".ee-shut::before {\n",
       "  display: inline-block;\n",
       "  content: \"▼\";\n",
       "  margin-right: 6px;\n",
       "  transform: rotate(-90deg);\n",
       "  transition: transform 0.2s;\n",
       "}\n",
       "\n",
       ".ee-open::before {\n",
       "  transform: rotate(0deg);\n",
       "  display: inline-block;\n",
       "  content: \"▼\";\n",
       "  margin-right: 6px;\n",
       "  transition: transform 0.2s;\n",
       "}\n",
       "</style><div class='ee'><ul><li><label class='ee-shut'>Image COPERNICUS/S1_GRD/S1A_IW_GRDH_1SDV_20230101T020236_20230101T020301_046584_059528_8F7A (3 bands)<input type='checkbox' class='ee-toggle'></label><ul><li><span class='ee-k'>type:</span><span class='ee-v'>Image</span></li><li><span class='ee-k'>id:</span><span class='ee-v'>COPERNICUS/S1_GRD/S1A_IW_GRDH_1SDV_20230101T020236_20230101T020301_046584_059528_8F7A</span></li><li><span class='ee-k'>version:</span><span class='ee-v'>1713374817369298</span></li><li><label class='ee-shut'>bands: List (3 elements)<input type='checkbox' class='ee-toggle'></label><ul><li><label class='ee-shut'>0: \"VV\", double, EPSG:32610, 29621x21413 px<input type='checkbox' class='ee-toggle'></label><ul><li><span class='ee-k'>id:</span><span class='ee-v'>VV</span></li><li><span class='ee-k'>crs:</span><span class='ee-v'>EPSG:32610</span></li><li><label class='ee-shut'>crs_transform: List (6 elements)<input type='checkbox' class='ee-toggle'></label><ul><li><span class='ee-k'>0:</span><span class='ee-v'>10</span></li><li><span class='ee-k'>1:</span><span class='ee-v'>0</span></li><li><span class='ee-k'>2:</span><span class='ee-v'>369944.75064771384</span></li><li><span class='ee-k'>3:</span><span class='ee-v'>0</span></li><li><span class='ee-k'>4:</span><span class='ee-v'>-10</span></li><li><span class='ee-k'>5:</span><span class='ee-v'>5418549.333561473</span></li></ul></li><li><label class='ee-shut'>data_type: double<input type='checkbox' class='ee-toggle'></label><ul><li><span class='ee-k'>type:</span><span class='ee-v'>PixelType</span></li><li><span class='ee-k'>precision:</span><span class='ee-v'>double</span></li></ul></li><li><label class='ee-shut'>dimensions: [29621, 21413]<input type='checkbox' class='ee-toggle'></label><ul><li><span class='ee-k'>0:</span><span class='ee-v'>29621</span></li><li><span class='ee-k'>1:</span><span class='ee-v'>21413</span></li></ul></li></ul></li><li><label class='ee-shut'>1: \"VH\", double, EPSG:32610, 29621x21413 px<input type='checkbox' class='ee-toggle'></label><ul><li><span class='ee-k'>id:</span><span class='ee-v'>VH</span></li><li><span class='ee-k'>crs:</span><span class='ee-v'>EPSG:32610</span></li><li><label class='ee-shut'>crs_transform: List (6 elements)<input type='checkbox' class='ee-toggle'></label><ul><li><span class='ee-k'>0:</span><span class='ee-v'>10</span></li><li><span class='ee-k'>1:</span><span class='ee-v'>0</span></li><li><span class='ee-k'>2:</span><span class='ee-v'>369944.75064771384</span></li><li><span class='ee-k'>3:</span><span class='ee-v'>0</span></li><li><span class='ee-k'>4:</span><span class='ee-v'>-10</span></li><li><span class='ee-k'>5:</span><span class='ee-v'>5418549.333561473</span></li></ul></li><li><label class='ee-shut'>data_type: double<input type='checkbox' class='ee-toggle'></label><ul><li><span class='ee-k'>type:</span><span class='ee-v'>PixelType</span></li><li><span class='ee-k'>precision:</span><span class='ee-v'>double</span></li></ul></li><li><label class='ee-shut'>dimensions: [29621, 21413]<input type='checkbox' class='ee-toggle'></label><ul><li><span class='ee-k'>0:</span><span class='ee-v'>29621</span></li><li><span class='ee-k'>1:</span><span class='ee-v'>21413</span></li></ul></li></ul></li><li><label class='ee-shut'>2: \"angle\", double, EPSG:32610, 21x10 px<input type='checkbox' class='ee-toggle'></label><ul><li><span class='ee-k'>id:</span><span class='ee-v'>angle</span></li><li><span class='ee-k'>crs:</span><span class='ee-v'>EPSG:32610</span></li><li><label class='ee-shut'>crs_transform: List (6 elements)<input type='checkbox' class='ee-toggle'></label><ul><li><span class='ee-k'>0:</span><span class='ee-v'>13039.355184980435</span></li><li><span class='ee-k'>1:</span><span class='ee-v'>-3665.3421585814212</span></li><li><span class='ee-k'>2:</span><span class='ee-v'>403813.4064205674</span></li><li><span class='ee-k'>3:</span><span class='ee-v'>2344.4148578550667</span></li><li><span class='ee-k'>4:</span><span class='ee-v'>20035.84582236875</span></li><li><span class='ee-k'>5:</span><span class='ee-v'>5205190.573708233</span></li></ul></li><li><label class='ee-shut'>data_type: double<input type='checkbox' class='ee-toggle'></label><ul><li><span class='ee-k'>type:</span><span class='ee-v'>PixelType</span></li><li><span class='ee-k'>precision:</span><span class='ee-v'>double</span></li></ul></li><li><label class='ee-shut'>dimensions: [21, 10]<input type='checkbox' class='ee-toggle'></label><ul><li><span class='ee-k'>0:</span><span class='ee-v'>21</span></li><li><span class='ee-k'>1:</span><span class='ee-v'>10</span></li></ul></li></ul></li></ul></li><li><label class='ee-shut'>properties: Object (54 properties)<input type='checkbox' class='ee-toggle'></label><ul><li><span class='ee-k'>GRD_Post_Processing_facility_country:</span><span class='ee-v'>Italy</span></li><li><span class='ee-k'>GRD_Post_Processing_facility_name:</span><span class='ee-v'>Copernicus Ground Segment</span></li><li><span class='ee-k'>GRD_Post_Processing_facility_org:</span><span class='ee-v'>ESA</span></li><li><span class='ee-k'>GRD_Post_Processing_facility_site:</span><span class='ee-v'>Production Service-SERCO</span></li><li><span class='ee-k'>GRD_Post_Processing_software_name:</span><span class='ee-v'>Sentinel-1 IPF</span></li><li><span class='ee-k'>GRD_Post_Processing_software_version:</span><span class='ee-v'>003.52</span></li><li><span class='ee-k'>GRD_Post_Processing_start:</span><span class='ee-v'>1672549571662</span></li><li><span class='ee-k'>GRD_Post_Processing_stop:</span><span class='ee-v'>1672550214000</span></li><li><span class='ee-k'>S1TBX_Calibration_vers:</span><span class='ee-v'>8.0.3</span></li><li><span class='ee-k'>S1TBX_SAR_Processing_vers:</span><span class='ee-v'>8.0.3</span></li><li><span class='ee-k'>SLC_Processing_facility_country:</span><span class='ee-v'>Italy</span></li><li><span class='ee-k'>SLC_Processing_facility_name:</span><span class='ee-v'>Copernicus Ground Segment</span></li><li><span class='ee-k'>SLC_Processing_facility_org:</span><span class='ee-v'>ESA</span></li><li><span class='ee-k'>SLC_Processing_facility_site:</span><span class='ee-v'>Production Service-SERCO</span></li><li><span class='ee-k'>SLC_Processing_software_name:</span><span class='ee-v'>Sentinel-1 IPF</span></li><li><span class='ee-k'>SLC_Processing_software_version:</span><span class='ee-v'>003.52</span></li><li><span class='ee-k'>SLC_Processing_start:</span><span class='ee-v'>1672549752000</span></li><li><span class='ee-k'>SLC_Processing_stop:</span><span class='ee-v'>1672550096000</span></li><li><span class='ee-k'>SNAP_Graph_Processing_Framework_GPF_vers:</span><span class='ee-v'>8.0.3</span></li><li><span class='ee-k'>cycleNumber:</span><span class='ee-v'>280</span></li><li><span class='ee-k'>familyName:</span><span class='ee-v'>SENTINEL-1</span></li><li><span class='ee-k'>instrument:</span><span class='ee-v'>Synthetic Aperture Radar</span></li><li><span class='ee-k'>instrumentConfigurationID:</span><span class='ee-v'>7</span></li><li><span class='ee-k'>instrumentMode:</span><span class='ee-v'>IW</span></li><li><span class='ee-k'>instrumentSwath:</span><span class='ee-v'>IW</span></li><li><span class='ee-k'>missionDataTakeID:</span><span class='ee-v'>365864</span></li><li><span class='ee-k'>nssdcIdentifier:</span><span class='ee-v'>2014-016A</span></li><li><span class='ee-k'>orbitNumber_start:</span><span class='ee-v'>46584</span></li><li><span class='ee-k'>orbitNumber_stop:</span><span class='ee-v'>46584</span></li><li><span class='ee-k'>orbitProperties_ascendingNodeTime:</span><span class='ee-v'>1672537788865</span></li><li><span class='ee-k'>orbitProperties_pass:</span><span class='ee-v'>ASCENDING</span></li><li><span class='ee-k'>phaseIdentifier:</span><span class='ee-v'>1</span></li><li><span class='ee-k'>platform_number:</span><span class='ee-v'>A</span></li><li><span class='ee-k'>productClass:</span><span class='ee-v'>S</span></li><li><span class='ee-k'>productClassDescription:</span><span class='ee-v'>SAR Standard L1 Product</span></li><li><span class='ee-k'>productComposition:</span><span class='ee-v'>Slice</span></li><li><span class='ee-k'>productTimelinessCategory:</span><span class='ee-v'>Fast-24h</span></li><li><span class='ee-k'>productType:</span><span class='ee-v'>GRD</span></li><li><span class='ee-k'>relativeOrbitNumber_start:</span><span class='ee-v'>137</span></li><li><span class='ee-k'>relativeOrbitNumber_stop:</span><span class='ee-v'>137</span></li><li><span class='ee-k'>resolution:</span><span class='ee-v'>H</span></li><li><span class='ee-k'>resolution_meters:</span><span class='ee-v'>10</span></li><li><span class='ee-k'>segmentStartTime:</span><span class='ee-v'>1672538302871</span></li><li><span class='ee-k'>sliceNumber:</span><span class='ee-v'>11</span></li><li><span class='ee-k'>sliceProductFlag:</span><span class='ee-v'>true</span></li><li><span class='ee-k'>startTimeANX:</span><span class='ee-v'>767707.3</span></li><li><span class='ee-k'>stopTimeANX:</span><span class='ee-v'>792705.1</span></li><li><span class='ee-k'>system:asset_size:</span><span class='ee-v'>4094828345</span></li><li><label class='ee-shut'>system:footprint: LinearRing (21 vertices)<input type='checkbox' class='ee-toggle'></label><ul><li><span class='ee-k'>type:</span><span class='ee-v'>LinearRing</span></li><li><label class='ee-shut'>coordinates: List (21 elements)<input type='checkbox' class='ee-toggle'></label><ul><li><label class='ee-shut'>0: [-121.65247416947543, 47.31265301720123]<input type='checkbox' class='ee-toggle'></label><ul><li><span class='ee-k'>0:</span><span class='ee-v'>-121.65247416947543</span></li><li><span class='ee-k'>1:</span><span class='ee-v'>47.31265301720123</span></li></ul></li><li><label class='ee-shut'>1: [-120.9255530031442, 47.39034070332949]<input type='checkbox' class='ee-toggle'></label><ul><li><span class='ee-k'>0:</span><span class='ee-v'>-120.9255530031442</span></li><li><span class='ee-k'>1:</span><span class='ee-v'>47.39034070332949</span></li></ul></li><li><label class='ee-shut'>2: [-120.93425741657688, 47.46082503055696]<input type='checkbox' class='ee-toggle'></label><ul><li><span class='ee-k'>0:</span><span class='ee-v'>-120.93425741657688</span></li><li><span class='ee-k'>1:</span><span class='ee-v'>47.46082503055696</span></li></ul></li><li><label class='ee-shut'>3: [-120.95894479253876, 47.57920639118271]<input type='checkbox' class='ee-toggle'></label><ul><li><span class='ee-k'>0:</span><span class='ee-v'>-120.95894479253876</span></li><li><span class='ee-k'>1:</span><span class='ee-v'>47.57920639118271</span></li></ul></li><li><label class='ee-shut'>4: [-121.06959905429022, 48.08320890811796]<input type='checkbox' class='ee-toggle'></label><ul><li><span class='ee-k'>0:</span><span class='ee-v'>-121.06959905429022</span></li><li><span class='ee-k'>1:</span><span class='ee-v'>48.08320890811796</span></li></ul></li><li><label class='ee-shut'>5: [-121.15755736931281, 48.461594775146835]<input type='checkbox' class='ee-toggle'></label><ul><li><span class='ee-k'>0:</span><span class='ee-v'>-121.15755736931281</span></li><li><span class='ee-k'>1:</span><span class='ee-v'>48.461594775146835</span></li></ul></li><li><label class='ee-shut'>6: [-121.24781943566016, 48.844386477919905]<input type='checkbox' class='ee-toggle'></label><ul><li><span class='ee-k'>0:</span><span class='ee-v'>-121.24781943566016</span></li><li><span class='ee-k'>1:</span><span class='ee-v'>48.844386477919905</span></li></ul></li><li><label class='ee-shut'>7: [-121.26474979807462, 48.88337434075537]<input type='checkbox' class='ee-toggle'></label><ul><li><span class='ee-k'>0:</span><span class='ee-v'>-121.26474979807462</span></li><li><span class='ee-k'>1:</span><span class='ee-v'>48.88337434075537</span></li></ul></li><li><label class='ee-shut'>8: [-121.27009413753477, 48.888178821240196]<input type='checkbox' class='ee-toggle'></label><ul><li><span class='ee-k'>0:</span><span class='ee-v'>-121.27009413753477</span></li><li><span class='ee-k'>1:</span><span class='ee-v'>48.888178821240196</span></li></ul></li><li><label class='ee-shut'>9: [-123.03148766167024, 48.69785563156587]<input type='checkbox' class='ee-toggle'></label><ul><li><span class='ee-k'>0:</span><span class='ee-v'>-123.03148766167024</span></li><li><span class='ee-k'>1:</span><span class='ee-v'>48.69785563156587</span></li></ul></li><li><label class='ee-shut'>10: [-124.64996598195481, 48.49777897406063]<input type='checkbox' class='ee-toggle'></label><ul><li><span class='ee-k'>0:</span><span class='ee-v'>-124.64996598195481</span></li><li><span class='ee-k'>1:</span><span class='ee-v'>48.49777897406063</span></li></ul></li><li><label class='ee-shut'>11: [-124.5799174645581, 48.2488647638256]<input type='checkbox' class='ee-toggle'></label><ul><li><span class='ee-k'>0:</span><span class='ee-v'>-124.5799174645581</span></li><li><span class='ee-k'>1:</span><span class='ee-v'>48.2488647638256</span></li></ul></li><li><label class='ee-shut'>12: [-124.55157151881355, 48.153429711786146]<input type='checkbox' class='ee-toggle'></label><ul><li><span class='ee-k'>0:</span><span class='ee-v'>-124.55157151881355</span></li><li><span class='ee-k'>1:</span><span class='ee-v'>48.153429711786146</span></li></ul></li><li><label class='ee-shut'>13: [-124.4287407212868, 47.737985589212364]<input type='checkbox' class='ee-toggle'></label><ul><li><span class='ee-k'>0:</span><span class='ee-v'>-124.4287407212868</span></li><li><span class='ee-k'>1:</span><span class='ee-v'>47.737985589212364</span></li></ul></li><li><label class='ee-shut'>14: [-124.39210925743447, 47.61422456439937]<input type='checkbox' class='ee-toggle'></label><ul><li><span class='ee-k'>0:</span><span class='ee-v'>-124.39210925743447</span></li><li><span class='ee-k'>1:</span><span class='ee-v'>47.61422456439937</span></li></ul></li><li><label class='ee-shut'>15: [-124.35636185206224, 47.4929480285294]<input type='checkbox' class='ee-toggle'></label><ul><li><span class='ee-k'>0:</span><span class='ee-v'>-124.35636185206224</span></li><li><span class='ee-k'>1:</span><span class='ee-v'>47.4929480285294</span></li></ul></li><li><label class='ee-shut'>16: [-124.30244299778771, 47.30946746206103]<input type='checkbox' class='ee-toggle'></label><ul><li><span class='ee-k'>0:</span><span class='ee-v'>-124.30244299778771</span></li><li><span class='ee-k'>1:</span><span class='ee-v'>47.30946746206103</span></li></ul></li><li><label class='ee-shut'>17: [-124.228764152446, 47.057710745830086]<input type='checkbox' class='ee-toggle'></label><ul><li><span class='ee-k'>0:</span><span class='ee-v'>-124.228764152446</span></li><li><span class='ee-k'>1:</span><span class='ee-v'>47.057710745830086</span></li></ul></li><li><label class='ee-shut'>18: [-124.21201947253338, 47.00031727503095]<input type='checkbox' class='ee-toggle'></label><ul><li><span class='ee-k'>0:</span><span class='ee-v'>-124.21201947253338</span></li><li><span class='ee-k'>1:</span><span class='ee-v'>47.00031727503095</span></li></ul></li><li><label class='ee-shut'>19: [-123.25871472114164, 47.12375785147453]<input type='checkbox' class='ee-toggle'></label><ul><li><span class='ee-k'>0:</span><span class='ee-v'>-123.25871472114164</span></li><li><span class='ee-k'>1:</span><span class='ee-v'>47.12375785147453</span></li></ul></li><li><label class='ee-shut'>20: [-121.65247416947543, 47.31265301720123]<input type='checkbox' class='ee-toggle'></label><ul><li><span class='ee-k'>0:</span><span class='ee-v'>-121.65247416947543</span></li><li><span class='ee-k'>1:</span><span class='ee-v'>47.31265301720123</span></li></ul></li></ul></li></ul></li><li><span class='ee-k'>system:index:</span><span class='ee-v'>S1A_IW_GRDH_1SDV_20230101T020236_20230101T020301_046584_059528_8F7A</span></li><li><span class='ee-k'>system:time_end:</span><span class='ee-v'>1672538556000</span></li><li><span class='ee-k'>system:time_start:</span><span class='ee-v'>1672538556000</span></li><li><span class='ee-k'>totalSlices:</span><span class='ee-v'>26</span></li><li><label class='ee-shut'>transmitterReceiverPolarisation: ['VV', 'VH']<input type='checkbox' class='ee-toggle'></label><ul><li><span class='ee-k'>0:</span><span class='ee-v'>VV</span></li><li><span class='ee-k'>1:</span><span class='ee-v'>VH</span></li></ul></li></ul></li></ul></li></ul></div><script>function toggleHeader() {\n",
       "    const parent = this.parentElement;\n",
       "    parent.className = parent.className === \"ee-open\" ? \"ee-shut\" : \"ee-open\";\n",
       "}\n",
       "\n",
       "for (let c of document.getElementsByClassName(\"ee-toggle\")) {\n",
       "    c.onclick = toggleHeader;\n",
       "}</script></div>"
      ],
      "text/plain": [
       "<ee.image.Image at 0x1380941f700>"
      ]
     },
     "execution_count": 33,
     "metadata": {},
     "output_type": "execute_result"
    }
   ],
   "source": [
    "sentinel1_vv.first()"
   ]
  },
  {
   "cell_type": "code",
   "execution_count": 11,
   "metadata": {},
   "outputs": [
    {
     "name": "stdout",
     "output_type": "stream",
     "text": [
      "Total number of images: 1373\n",
      "\n"
     ]
    }
   ],
   "source": [
    "# Export image collection to drive \n",
    "# change the scale to 100m \n",
    "# I exported this to kmcquillan449@gmail.com since I payed for 1TB of stroage\n",
    "geemap.ee_export_image_collection_to_drive(sentinel1_vv, folder='S1', scale=100, maxPixels=10000000000000)"
   ]
  },
  {
   "cell_type": "code",
   "execution_count": 16,
   "metadata": {},
   "outputs": [],
   "source": [
    "# Create a panda dt of the S1 image id, orbit direction, and orbit heading \n",
    "def get_properties(image):\n",
    "    # Extract the system:id \n",
    "    id = image.get('system:id').getInfo()\n",
    "\n",
    "    # Extract orbit direction \n",
    "    orbit_pass = image.get('orbitProperties_pass').getInfo()\n",
    "\n",
    "    # Find the most eastern, most southern, and most northern point \n",
    "    coords = image.get('system:footprint').getInfo()['coordinates']\n",
    "    x = [i[0] for i in coords]\n",
    "    y = [i[1] for i in coords]\n",
    "\n",
    "    east_idx = x.index(max(x))\n",
    "    east_coord = coords[east_idx]\n",
    "\n",
    "    south_idx = y.index(min(y))\n",
    "    south_coord = coords[south_idx]\n",
    "\n",
    "    north_idx = y.index(max(y))\n",
    "    north_coord = coords[north_idx]\n",
    "\n",
    "    if orbit_pass == \"ASCENDING\":\n",
    "        # from east to north \n",
    "        angle = math.degrees(math.atan2(north_coord[1]-east_coord[1], north_coord[0]-east_coord[0]))\n",
    "        orbit_heading = (90-angle)%360\n",
    "\n",
    "    if orbit_pass == \"DESCENDING\":\n",
    "        # from east to south \n",
    "        angle = math.degrees(math.atan2(south_coord[1]-east_coord[1], south_coord[0]-east_coord[0]))\n",
    "        orbit_heading = (90-angle)%360\n",
    "\n",
    "    dt = pd.DataFrame({'id':[id], 'orbit_pass':[orbit_pass], 'orbit_heading':[orbit_heading]})\n",
    "    return dt \n",
    "\n",
    "# Convert to list for iteration \n",
    "s1_props = []\n",
    "sentinel1_vv_list = sentinel1_vv.toList(count)\n",
    "for i in range(0,1373):\n",
    "    image = ee.Image(ee.List(sentinel1_vv_list).get(i))\n",
    "    s1_props.append(get_properties(image))\n",
    "\n",
    "s1_props_df = pd.concat(s1_props)\n",
    "s1_props_df.to_csv(os.path.join(home, \"Data/Sentinel1/s1_image_info.csv\"))"
   ]
  },
  {
   "cell_type": "code",
   "execution_count": 26,
   "metadata": {},
   "outputs": [
    {
     "data": {
      "text/plain": [
       "<Axes: xlabel='orbit_heading', ylabel='Count'>"
      ]
     },
     "execution_count": 26,
     "metadata": {},
     "output_type": "execute_result"
    },
    {
     "data": {
      "image/png": "[encoded data removed]",
      "text/plain": [
       "<Figure size 640x480 with 1 Axes>"
      ]
     },
     "metadata": {},
     "output_type": "display_data"
    }
   ],
   "source": [
    "# Visualize the orbit headings \n",
    "sns.histplot(s1_props_df['orbit_heading'])"
   ]
  },
  {
   "cell_type": "code",
   "execution_count": null,
   "metadata": {},
   "outputs": [],
   "source": [
    "# Map the footprint \n",
    "coords = image.get('system:footprint').getInfo()\n",
    "system_footprint = ee.Geometry.LinearRing(coords['coordinates'])\n",
    "\n",
    "Map = geemap.Map()\n",
    "Map.addLayer(system_footprint, {}, \"Footprint\")\n",
    "Map"
   ]
  },
  {
   "cell_type": "code",
   "execution_count": 24,
   "metadata": {},
   "outputs": [],
   "source": [
    "# After downloading all of the sentinel 1 data from personal GDRIVE, it must be unzipped and put in the right location \n",
    "zip_files = glob.glob('C:/Users/kmcquil/Downloads/S1-*.zip')\n",
    "for file in zip_files:\n",
    "    with zipfile.ZipFile(file, 'r') as zip_ref:\n",
    "        zip_ref.extractall(os.path.join(home, \"Data/Sentinel1/Raw\"))"
   ]
  },
  {
   "cell_type": "code",
   "execution_count": 3,
   "metadata": {},
   "outputs": [],
   "source": [
    "# Process all of the sentinel images downloaded to linear units \n",
    "def process_sentinel(vv_fp):\n",
    "\n",
    "    # Open and rename bands of the file \n",
    "    ds = rioxarray.open_rasterio(vv_fp, band_as_variable = True)\n",
    "    ds = ds.rename({'band_1': 'sig0', 'band_2':'vh', 'band_3': 'inc_angle'})\n",
    "\n",
    "    # Drop the vh band \n",
    "    ds = ds.drop_vars('vh')\n",
    "\n",
    "    # Convert the vv sigma0 from dB to linear \n",
    "    ds['sig0'] = 10 ** (ds['sig0']/10)\n",
    "\n",
    "    # Set the no data value\n",
    "    ds.sig0.rio.write_nodata(np.nan, encoded=True, inplace=True)\n",
    "    ds.inc_angle.rio.write_nodata(np.nan, encoded=True, inplace=True)\n",
    "\n",
    "    # There is no water mask. This dataset will just use the lake boundary to mask out non-water pixels \n",
    "    # Add the platform heading as an attribute \n",
    "    orbit_heading = s1_props_df[s1_props_df['id'].str.contains(os.path.basename(vv_fp)[:-4])]['orbit_heading'].iloc[0]\n",
    "    ds.rio.update_attrs({'platform_heading':orbit_heading}, inplace=True)\n",
    "    # Write the crs again because it gets lost \n",
    "    ds.rio.write_crs(ds.rio.crs, inplace=True)\n",
    "    # Save as a .nc file to preserve the platform_heading attribute \n",
    "    ds.to_netcdf(os.path.join(home, \"Data/Sentinel1/Processed\",  os.path.basename(vv_fp)[:-4] + \".nc\"))\n",
    "    ds.close()\n",
    "    return \"finished \" + vv_fp\n"
   ]
  },
  {
   "cell_type": "code",
   "execution_count": 4,
   "metadata": {},
   "outputs": [],
   "source": [
    "s1_props_df = pd.read_csv(os.path.join(home, \"Data/Sentinel1/s1_image_info.csv\"))\n",
    "s1_files = glob.glob(os.path.join(home, \"Data/Sentinel1/Raw/S1/*.tif\"))\n",
    "\n",
    "for file in s1_files:\n",
    "    if os.path.isfile(os.path.join(home, \"Data/Sentinel1/Processed\",  os.path.basename(file)[:-4] + \".nc\")) == True:\n",
    "        continue\n",
    "    process_sentinel(file)"
   ]
  },
  {
   "cell_type": "code",
   "execution_count": null,
   "metadata": {},
   "outputs": [],
   "source": []
  }
 ],
 "metadata": {
  "kernelspec": {
   "display_name": "geo-py",
   "language": "python",
   "name": "python3"
  },
  "language_info": {
   "codemirror_mode": {
    "name": "ipython",
    "version": 3
   },
   "file_extension": ".py",
   "mimetype": "text/x-python",
   "name": "python",
   "nbconvert_exporter": "python",
   "pygments_lexer": "ipython3",
   "version": "3.9.7"
  }
 },
 "nbformat": 4,
 "nbformat_minor": 2
}
